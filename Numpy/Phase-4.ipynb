{
 "cells": [
  {
   "cell_type": "code",
   "execution_count": 1,
   "metadata": {},
   "outputs": [],
   "source": [
    "import numpy as np\n",
    "import matplotlib.pyplot as plt"
   ]
  },
  {
   "cell_type": "code",
   "execution_count": 2,
   "metadata": {},
   "outputs": [],
   "source": [
    "array_1 = np.array([[1,2,3,],[4,5,6]])\n",
    "array_2 = np.random.rand(3,3)\n",
    "array_3 = np.zeros((3,3))\n"
   ]
  },
  {
   "cell_type": "code",
   "execution_count": 3,
   "metadata": {},
   "outputs": [],
   "source": [
    "np.save('array_1.npy',array_1)\n",
    "np.save('array_2.npy',array_2)\n",
    "np.save('array_3.npy',array_3)"
   ]
  },
  {
   "cell_type": "code",
   "execution_count": 4,
   "metadata": {},
   "outputs": [
    {
     "name": "stdout",
     "output_type": "stream",
     "text": [
      "[[1 2 3]\n",
      " [4 5 6]]\n",
      "[[0.68277182 0.97333471 0.31910497]\n",
      " [0.49083229 0.30825933 0.31360001]\n",
      " [0.0406893  0.6011535  0.627274  ]]\n",
      "[[0. 0. 0.]\n",
      " [0. 0. 0.]\n",
      " [0. 0. 0.]]\n"
     ]
    }
   ],
   "source": [
    "loaded_array_1 = np.load('array_1.npy')\n",
    "loaded_array_2 = np.load('array_2.npy')\n",
    "loaded_array_3 = np.load('array_3.npy')\n",
    "\n",
    "print(loaded_array_1)\n",
    "print(loaded_array_2)\n",
    "print(loaded_array_3)"
   ]
  },
  {
   "cell_type": "code",
   "execution_count": 9,
   "metadata": {},
   "outputs": [
    {
     "name": "stdout",
     "output_type": "stream",
     "text": [
      "numpy logo file not found\n"
     ]
    }
   ],
   "source": [
    "try:\n",
    "    logo = np.load('numpy-logo.npy')\n",
    "\n",
    "    # Display\n",
    "    plt.figure(figsize=(10, 5))\n",
    "    plt.subplot(121)\n",
    "    plt.imshow(logo)\n",
    "    plt.title(\"Numpy logo\")\n",
    "    plt.grid('off')\n",
    "\n",
    "except FileNotFoundError:\n",
    "    print(\"numpy logo file not found\")\n"
   ]
  },
  {
   "cell_type": "code",
   "execution_count": null,
   "metadata": {},
   "outputs": [],
   "source": []
  }
 ],
 "metadata": {
  "kernelspec": {
   "display_name": ".venv",
   "language": "python",
   "name": "python3"
  },
  "language_info": {
   "codemirror_mode": {
    "name": "ipython",
    "version": 3
   },
   "file_extension": ".py",
   "mimetype": "text/x-python",
   "name": "python",
   "nbconvert_exporter": "python",
   "pygments_lexer": "ipython3",
   "version": "3.12.4"
  }
 },
 "nbformat": 4,
 "nbformat_minor": 2
}
