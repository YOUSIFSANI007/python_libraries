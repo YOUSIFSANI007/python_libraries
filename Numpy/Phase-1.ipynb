{
 "cells": [
  {
   "cell_type": "markdown",
   "metadata": {},
   "source": [
    "# Numpy Array and Basics "
   ]
  },
  {
   "cell_type": "code",
   "execution_count": 1,
   "metadata": {},
   "outputs": [],
   "source": [
    "import numpy as np"
   ]
  },
  {
   "cell_type": "markdown",
   "metadata": {},
   "source": [
    "Creating Array From List "
   ]
  },
  {
   "cell_type": "code",
   "execution_count": 2,
   "metadata": {},
   "outputs": [
    {
     "name": "stdout",
     "output_type": "stream",
     "text": [
      "1D Array :  [1 2 3 4 5]\n",
      "2D Array :  [[1 2 3]\n",
      " [4 5 6]]\n"
     ]
    }
   ],
   "source": [
    "arr_1d = np.array([1,2,3,4,5])\n",
    "print(\"1D Array : \",arr_1d)\n",
    "\n",
    "arr_2d = np.array([[1,2,3],[4,5,6]])\n",
    "print(\"2D Array : \",arr_2d) "
   ]
  },
  {
   "cell_type": "markdown",
   "metadata": {},
   "source": [
    "## List vs Numpy array"
   ]
  },
  {
   "cell_type": "code",
   "execution_count": 4,
   "metadata": {},
   "outputs": [
    {
     "name": "stdout",
     "output_type": "stream",
     "text": [
      "Python List Multiplication :  [1, 2, 3, 4, 5, 1, 2, 3, 4, 5]\n",
      "Numpy Array Multiplication :  [ 2  4  6  8 10]\n",
      "\n",
      " List Multiplication Time :  0.06984424591064453\n",
      "\n",
      " Numpy Array Multiplication Time :  0.007328987121582031\n"
     ]
    }
   ],
   "source": [
    "py_list = [1,2,3,4,5]\n",
    "print(\"Python List Multiplication : \",py_list *2)\n",
    "\n",
    "np_arr = np.array([1,2,3,4,5])\n",
    "print(\"Numpy Array Multiplication : \",np_arr *2)\n",
    "\n",
    "import time\n",
    "start = time.time()\n",
    "py_list = [i*2 for i in range (1000000)]\n",
    "print(\"\\n List Multiplication Time : \",time.time() - start)\n",
    "\n",
    "start = time.time()\n",
    "np = np.arange(1000000)*2\n",
    "print(\"\\n Numpy Array Multiplication Time : \",time.time() - start)"
   ]
  },
  {
   "cell_type": "markdown",
   "metadata": {},
   "source": [
    "# Creating Array From  Scratch "
   ]
  },
  {
   "cell_type": "code",
   "execution_count": 5,
   "metadata": {},
   "outputs": [
    {
     "name": "stdout",
     "output_type": "stream",
     "text": [
      "zeros Array \n",
      " :  [[0. 0. 0. 0.]\n",
      " [0. 0. 0. 0.]\n",
      " [0. 0. 0. 0.]]\n",
      "ones Array \n",
      " :  [[1. 1. 1. 1.]\n",
      " [1. 1. 1. 1.]\n",
      " [1. 1. 1. 1.]]\n",
      "Full Array \n",
      " :  [[5 5 5 5]\n",
      " [5 5 5 5]\n",
      " [5 5 5 5]]\n",
      "random Array \n",
      " :  [[0.54226425 0.77930667 0.38942643 0.22544038 0.6703099  0.15017476\n",
      "  0.42051599]\n",
      " [0.96897572 0.63642937 0.67236536 0.74014053 0.19317972 0.19758958\n",
      "  0.48890442]]\n",
      "sequence Array \n",
      " :  [0 2 4 6 8]\n"
     ]
    }
   ],
   "source": [
    "import numpy as np\n",
    "\n",
    "zeros = np.zeros((3, 4))\n",
    "print(\"zeros Array \\n : \", zeros)\n",
    "\n",
    "ones = np.ones((3, 4))\n",
    "print(\"ones Array \\n : \", ones)\n",
    "\n",
    "Full = np.full((3, 4), 5)\n",
    "print(\"Full Array \\n : \", Full)\n",
    "\n",
    "random = np.random.random((2,7))\n",
    "print(\"random Array \\n : \", random)\n",
    "\n",
    "sequence = np.arange(0, 10, 2)\n",
    "print(\"sequence Array \\n : \", sequence)"
   ]
  },
  {
   "cell_type": "markdown",
   "metadata": {},
   "source": [
    "# Vector , Matrix and Tensor "
   ]
  },
  {
   "cell_type": "code",
   "execution_count": 2,
   "metadata": {},
   "outputs": [
    {
     "name": "stdout",
     "output_type": "stream",
     "text": [
      "Vector : [1 2 3 4 5]\n",
      "Matrix :\n",
      " [[1 2 3]\n",
      " [4 5 6]]\n",
      "Matrix Shape :  (2, 3)\n",
      "Matrix Size :  6\n",
      "Matrix Dimension :  2\n",
      "Matrix Data Type :  int64\n"
     ]
    }
   ],
   "source": [
    "import numpy as np\n",
    "\n",
    "vector = np.array ([1,2,3,4,5])\n",
    "print (\"Vector :\", vector)\n",
    "\n",
    "matrix = np.array ([[1,2,3],\n",
    "                    [4,5,6]])\n",
    "print (\"Matrix :\\n\", matrix)\n",
    "print (\"Matrix Shape : \", matrix.shape)\n",
    "print (\"Matrix Size : \", matrix.size)\n",
    "print (\"Matrix Dimension : \", matrix.ndim)\n",
    "print (\"Matrix Data Type : \", matrix.dtype)\n"
   ]
  },
  {
   "cell_type": "markdown",
   "metadata": {},
   "source": [
    "# Array Reshaping "
   ]
  },
  {
   "cell_type": "code",
   "execution_count": 5,
   "metadata": {},
   "outputs": [
    {
     "name": "stdout",
     "output_type": "stream",
     "text": [
      "Original Array \n",
      " :  [ 0  1  2  3  4  5  6  7  8  9 10 11]\n",
      "Reshaped Array \n",
      " :  [[ 0  1  2  3]\n",
      " [ 4  5  6  7]\n",
      " [ 8  9 10 11]]\n",
      "Flatten Array \n",
      " :  [ 0  1  2  3  4  5  6  7  8  9 10 11]\n",
      "Raveled Array \n",
      " :  [ 0  1  2  3  4  5  6  7  8  9 10 11]\n",
      "Transpose Array \n",
      " :  [[ 0  4  8]\n",
      " [ 1  5  9]\n",
      " [ 2  6 10]\n",
      " [ 3  7 11]]\n"
     ]
    }
   ],
   "source": [
    "arr = np.arange(12)\n",
    "print(\"Original Array \\n : \", arr )\n",
    "\n",
    "reshaped = arr.reshape((3,4))\n",
    "print(\"Reshaped Array \\n : \", reshaped) \n",
    "\n",
    "flatten = reshaped.flatten()\n",
    "print(\"Flatten Array \\n : \", flatten)\n",
    "\n",
    "raveled = reshaped.ravel()\n",
    "print(\"Raveled Array \\n : \", raveled)\n",
    "\n",
    "transpose = reshaped.T\n",
    "print(\"Transpose Array \\n : \", transpose)"
   ]
  },
  {
   "cell_type": "code",
   "execution_count": null,
   "metadata": {},
   "outputs": [],
   "source": []
  }
 ],
 "metadata": {
  "kernelspec": {
   "display_name": ".venv",
   "language": "python",
   "name": "python3"
  },
  "language_info": {
   "codemirror_mode": {
    "name": "ipython",
    "version": 3
   },
   "file_extension": ".py",
   "mimetype": "text/x-python",
   "name": "python",
   "nbconvert_exporter": "python",
   "pygments_lexer": "ipython3",
   "version": "3.12.4"
  }
 },
 "nbformat": 4,
 "nbformat_minor": 2
}
